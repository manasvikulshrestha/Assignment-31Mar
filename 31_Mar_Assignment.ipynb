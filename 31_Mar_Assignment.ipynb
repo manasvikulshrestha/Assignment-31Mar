{
 "cells": [
  {
   "cell_type": "markdown",
   "id": "5c84dfb4-05e0-42c8-b96f-ff9e9c83e647",
   "metadata": {},
   "source": [
    "Q1. What are the key steps involved in building an end-to-end web application, from development to\n",
    "deployment on the cloud?\n",
    "Q2. Explain the difference between traditional web hosting and cloud hosting.\n",
    "Q3. How do you choose the right cloud provider for your application deployment, and what factors\n",
    "should you consider?\n",
    "Q4. How do you design and build a responsive user interface for your web application, and what are\n",
    "some best practices to follow?\n",
    "Q5. How do you integrate the machine learning model with the user interface for the Algerian Forest Fires\n",
    "project(which we discussed in class), and what APIs or libraries can you use for this purpose?"
   ]
  },
  {
   "cell_type": "markdown",
   "id": "df51fee4-d4bb-4d6e-b3ca-ed8860b60f00",
   "metadata": {},
   "source": []
  }
 ],
 "metadata": {
  "kernelspec": {
   "display_name": "Python 3 (ipykernel)",
   "language": "python",
   "name": "python3"
  },
  "language_info": {
   "codemirror_mode": {
    "name": "ipython",
    "version": 3
   },
   "file_extension": ".py",
   "mimetype": "text/x-python",
   "name": "python",
   "nbconvert_exporter": "python",
   "pygments_lexer": "ipython3",
   "version": "3.10.8"
  }
 },
 "nbformat": 4,
 "nbformat_minor": 5
}
